{
 "metadata": {
  "language_info": {
   "codemirror_mode": {
    "name": "ipython",
    "version": 3
   },
   "file_extension": ".py",
   "mimetype": "text/x-python",
   "name": "python",
   "nbconvert_exporter": "python",
   "pygments_lexer": "ipython3",
   "version": "3.8.5-final"
  },
  "orig_nbformat": 2,
  "kernelspec": {
   "name": "Python 3.8.5 64-bit",
   "display_name": "Python 3.8.5 64-bit",
   "metadata": {
    "interpreter": {
     "hash": "aee8b7b246df8f9039afb4144a1f6fd8d2ca17a180786b69acc140d282b71a49"
    }
   }
  }
 },
 "nbformat": 4,
 "nbformat_minor": 2,
 "cells": [
  {
   "cell_type": "code",
   "execution_count": 30,
   "metadata": {
    "tags": []
   },
   "outputs": [],
   "source": [
    "import os\n",
    "import csv\n",
    "\n",
    "# Folder path to be mapped\n",
    "path=r'/Users/vishnuramd/Downloads/PGD DS' \n",
    "items0 = os.listdir(path)\n",
    "\n",
    "lis=[]\n",
    "for item0 in items0: # Step-1\n",
    "    try:\n",
    "        items1=os.listdir(path+'/'+item0)\n",
    "        for item1 in items1: # Step-2\n",
    "            try:\n",
    "                items2=os.listdir(path+'/'+item0+'/'+item1)\n",
    "                for item2 in items2: # Step-3\n",
    "                    try:\n",
    "                        items3=os.listdir(path+'/'+item0+'/'+item1+'/'+item2)\n",
    "                        for item3 in items3: # Step-4\n",
    "                            try:\n",
    "                                items3=os.listdir(path+'/'+item0+'/'+item1+'/'+item2+'/'+item3)\n",
    "                                for item4 in items4: # Step-5\n",
    "                                    try:\n",
    "                                        items4=os.listdir(path+'/'+item0+'/'+item1+'/'+item2+'/'+item3+'/'+item4)\n",
    "                                        for item5 in items5: # Step-6\n",
    "                                            try:\n",
    "                                                items5=os.listdir(path+'/'+item0+'/'+item1+'/'+item2+'/'+item3+'/'+item4+'/'+item5)\n",
    "                                                for item6 in items6: # Step-7\n",
    "                                                    try:\n",
    "                                                        items6=os.listdir(path+'/'+item0+'/'+item1+'/'+item2+'/'+item3+'/'+item4+'/'+item5+'/'+item6)\n",
    "                                                        for item7 in items7: # Step-8\n",
    "                                                            try:\n",
    "                                                                items7=os.listdir(path+'/'+item0+'/'+item1+'/'+item2+'/'+item3+'/'+item4+'/'+item5+'/'+item6+'/'+item7)\n",
    "                                                                for item8 in items8: # Step-9\n",
    "                                                                    try:\n",
    "                                                                        items8=os.listdir(path+'/'+item0+'/'+item1+'/'+item2+'/'+item3+'/'+item4+'/'+item5+'/'+item6+'/'+item7+'/'+item8)\n",
    "                                                                        for item9 in items9: # Step-10\n",
    "                                                                            lis.append([path,item0,item1,item2,item3,item4,item5,item6,item7,item8,item9])\n",
    "                                                                    except:\n",
    "                                                                        lis.append([path,item0,item1,item2,item3,item4,item5,item6,item7])\n",
    "                                                            except:\n",
    "                                                                lis.append([path,item0,item1,item2,item3,item4,item5,item6,item7])\n",
    "                                                    except:\n",
    "                                                        lis.append([path,item0,item1,item2,item3,item4,item5,item6])\n",
    "                                            except:\n",
    "                                                lis.append([path,item0,item1,item2,item3,item4,item5])\n",
    "                                    except:\n",
    "                                        lis.append([path,item0,item1,item2,item3,item4])\n",
    "                            except:\n",
    "                                lis.append([path,item0,item1,item2,item3])\n",
    "                    except:\n",
    "                        lis.append([path,item0,item1,item2])\n",
    "            except:\n",
    "                lis.append([path,item0,item1])\n",
    "    except:\n",
    "        lis.append([path,item0])\n",
    "lis\n",
    "\n",
    "with open('mycsv.csv','w',newline='') as f:\n",
    "    thewriter = csv.writer(f)\n",
    "    for i in range(len(lis)):\n",
    "        thewriter.writerow(lis[i])\n",
    "\n",
    "\n",
    "# os.listdir(path+'/'+os.listdir(path)[1])\n"
   ]
  },
  {
   "cell_type": "code",
   "execution_count": null,
   "metadata": {},
   "outputs": [],
   "source": []
  }
 ]
}